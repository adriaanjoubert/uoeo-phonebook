{
 "cells": [
  {
   "cell_type": "markdown",
   "id": "f8a6a2f0-88cc-4e56-8977-2f3e32d6e924",
   "metadata": {},
   "source": [
    "We start the program by importing the main function. The program will display a list of menu options. After each operation, the same menu options will be displayed. Use the menu to add 5 phonebook entries, delete 1 entry, sort the entries, and find an entry by ID."
   ]
  },
  {
   "cell_type": "code",
   "execution_count": null,
   "id": "7bb53cfe-2074-4595-9075-74e316336685",
   "metadata": {},
   "outputs": [
    {
     "name": "stdout",
     "output_type": "stream",
     "text": [
      "\n",
      "1. Add a new entry\n",
      "2. Print all entries\n",
      "3. Search for an entry by ID\n",
      "4. Sort entire phonebook by name\n",
      "5. Delete entry by ID\n",
      "6. Exit\n",
      "\n"
     ]
    },
    {
     "name": "stdin",
     "output_type": "stream",
     "text": [
      "Enter command (1-6):  1\n",
      "\n",
      "Name:  Sarah\n",
      "Phone number:  +44132478910\n"
     ]
    },
    {
     "name": "stdout",
     "output_type": "stream",
     "text": [
      "\n",
      "Entry added: 1 Sarah +44132478910\n",
      "\n",
      "1. Add a new entry\n",
      "2. Print all entries\n",
      "3. Search for an entry by ID\n",
      "4. Sort entire phonebook by name\n",
      "5. Delete entry by ID\n",
      "6. Exit\n",
      "\n"
     ]
    },
    {
     "name": "stdin",
     "output_type": "stream",
     "text": [
      "Enter command (1-6):  John\n"
     ]
    },
    {
     "name": "stdout",
     "output_type": "stream",
     "text": [
      "\n",
      "Invalid command\n",
      "\n",
      "1. Add a new entry\n",
      "2. Print all entries\n",
      "3. Search for an entry by ID\n",
      "4. Sort entire phonebook by name\n",
      "5. Delete entry by ID\n",
      "6. Exit\n",
      "\n"
     ]
    },
    {
     "name": "stdin",
     "output_type": "stream",
     "text": [
      "Enter command (1-6):  +44574132012\n"
     ]
    },
    {
     "name": "stdout",
     "output_type": "stream",
     "text": [
      "\n",
      "Invalid command\n",
      "\n",
      "1. Add a new entry\n",
      "2. Print all entries\n",
      "3. Search for an entry by ID\n",
      "4. Sort entire phonebook by name\n",
      "5. Delete entry by ID\n",
      "6. Exit\n",
      "\n"
     ]
    },
    {
     "name": "stdin",
     "output_type": "stream",
     "text": [
      "Enter command (1-6):  1\n",
      "\n",
      "Name:  Jessica\n",
      "Phone number:  +44901203472\n"
     ]
    },
    {
     "name": "stdout",
     "output_type": "stream",
     "text": [
      "\n",
      "Entry added: 2 Jessica +44901203472\n",
      "\n",
      "1. Add a new entry\n",
      "2. Print all entries\n",
      "3. Search for an entry by ID\n",
      "4. Sort entire phonebook by name\n",
      "5. Delete entry by ID\n",
      "6. Exit\n",
      "\n"
     ]
    },
    {
     "name": "stdin",
     "output_type": "stream",
     "text": [
      "Enter command (1-6):  1\n",
      "\n",
      "Name:  Mark\n",
      "Phone number:  +44144128642\n"
     ]
    },
    {
     "name": "stdout",
     "output_type": "stream",
     "text": [
      "\n",
      "Entry added: 3 Mark +44144128642\n",
      "\n",
      "1. Add a new entry\n",
      "2. Print all entries\n",
      "3. Search for an entry by ID\n",
      "4. Sort entire phonebook by name\n",
      "5. Delete entry by ID\n",
      "6. Exit\n",
      "\n"
     ]
    },
    {
     "name": "stdin",
     "output_type": "stream",
     "text": [
      "Enter command (1-6):  1\n",
      "\n",
      "Name:  Peter\n",
      "Phone number:  +44900456112\n"
     ]
    },
    {
     "name": "stdout",
     "output_type": "stream",
     "text": [
      "\n",
      "Entry added: 4 Peter +44900456112\n",
      "\n",
      "1. Add a new entry\n",
      "2. Print all entries\n",
      "3. Search for an entry by ID\n",
      "4. Sort entire phonebook by name\n",
      "5. Delete entry by ID\n",
      "6. Exit\n",
      "\n"
     ]
    },
    {
     "name": "stdin",
     "output_type": "stream",
     "text": [
      "Enter command (1-6):  1\n",
      "\n",
      "Name:  John\n",
      "Phone number:  +44562123741\n"
     ]
    },
    {
     "name": "stdout",
     "output_type": "stream",
     "text": [
      "\n",
      "Entry added: 5 John +44562123741\n",
      "\n",
      "1. Add a new entry\n",
      "2. Print all entries\n",
      "3. Search for an entry by ID\n",
      "4. Sort entire phonebook by name\n",
      "5. Delete entry by ID\n",
      "6. Exit\n",
      "\n"
     ]
    },
    {
     "name": "stdin",
     "output_type": "stream",
     "text": [
      "Enter command (1-6):  2\n"
     ]
    },
    {
     "name": "stdout",
     "output_type": "stream",
     "text": [
      "\n",
      "1 Sarah +44132478910\n",
      "2 Jessica +44901203472\n",
      "3 Mark +44144128642\n",
      "4 Peter +44900456112\n",
      "5 John +44562123741\n",
      "\n",
      "\n",
      "1. Add a new entry\n",
      "2. Print all entries\n",
      "3. Search for an entry by ID\n",
      "4. Sort entire phonebook by name\n",
      "5. Delete entry by ID\n",
      "6. Exit\n",
      "\n"
     ]
    },
    {
     "name": "stdin",
     "output_type": "stream",
     "text": [
      "Enter command (1-6):  3\n",
      "\n",
      "Enter ID:  5\n"
     ]
    },
    {
     "name": "stdout",
     "output_type": "stream",
     "text": [
      "\n",
      "5 John +44562123741\n",
      "\n",
      "1. Add a new entry\n",
      "2. Print all entries\n",
      "3. Search for an entry by ID\n",
      "4. Sort entire phonebook by name\n",
      "5. Delete entry by ID\n",
      "6. Exit\n",
      "\n"
     ]
    },
    {
     "name": "stdin",
     "output_type": "stream",
     "text": [
      "Enter command (1-6):  5\n",
      "\n",
      "Enter ID:  3\n"
     ]
    },
    {
     "name": "stdout",
     "output_type": "stream",
     "text": [
      "\n",
      "1 Sarah +44132478910\n",
      "2 Jessica +44901203472\n",
      "4 Peter +44900456112\n",
      "5 John +44562123741\n",
      "\n",
      "\n",
      "1. Add a new entry\n",
      "2. Print all entries\n",
      "3. Search for an entry by ID\n",
      "4. Sort entire phonebook by name\n",
      "5. Delete entry by ID\n",
      "6. Exit\n",
      "\n"
     ]
    },
    {
     "name": "stdin",
     "output_type": "stream",
     "text": [
      "Enter command (1-6):  4\n"
     ]
    },
    {
     "name": "stdout",
     "output_type": "stream",
     "text": [
      "\n",
      "2 Jessica +44901203472\n",
      "5 John +44562123741\n",
      "4 Peter +44900456112\n",
      "1 Sarah +44132478910\n",
      "\n",
      "\n",
      "1. Add a new entry\n",
      "2. Print all entries\n",
      "3. Search for an entry by ID\n",
      "4. Sort entire phonebook by name\n",
      "5. Delete entry by ID\n",
      "6. Exit\n",
      "\n"
     ]
    }
   ],
   "source": [
    "from main import main\n",
    "\n",
    "main()"
   ]
  },
  {
   "cell_type": "code",
   "execution_count": null,
   "id": "c9755a48-db65-43a2-8ec1-381262fab571",
   "metadata": {},
   "outputs": [],
   "source": []
  }
 ],
 "metadata": {
  "kernelspec": {
   "display_name": "Python 3 (ipykernel)",
   "language": "python",
   "name": "python3"
  },
  "language_info": {
   "codemirror_mode": {
    "name": "ipython",
    "version": 3
   },
   "file_extension": ".py",
   "mimetype": "text/x-python",
   "name": "python",
   "nbconvert_exporter": "python",
   "pygments_lexer": "ipython3",
   "version": "3.12.4"
  }
 },
 "nbformat": 4,
 "nbformat_minor": 5
}
