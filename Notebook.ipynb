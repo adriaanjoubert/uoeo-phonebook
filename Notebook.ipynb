{
 "cells": [
  {
   "cell_type": "markdown",
   "id": "f8a6a2f0-88cc-4e56-8977-2f3e32d6e924",
   "metadata": {},
   "source": [
    "We start the program by importing the main function. The program will display a list of menu options. After each operation, the same menu options will be displayed. Use the menu to add 5 phonebook entries, delete 1 entry, sort the entries, and find an entry by ID."
   ]
  },
  {
   "cell_type": "code",
   "execution_count": null,
   "id": "7bb53cfe-2074-4595-9075-74e316336685",
   "metadata": {},
   "outputs": [
    {
     "name": "stdout",
     "output_type": "stream",
     "text": [
      "\n",
      "1. Add a new entry\n",
      "2. Print all entries\n",
      "3. Search for an entry by ID\n",
      "4. Sort entire phonebook by name\n",
      "5. Delete entry by ID\n",
      "6. Exit\n",
      "\n"
     ]
    }
   ],
   "source": [
    "from main import main\n",
    "\n",
    "main()"
   ]
  },
  {
   "cell_type": "code",
   "execution_count": null,
   "id": "c9755a48-db65-43a2-8ec1-381262fab571",
   "metadata": {},
   "outputs": [],
   "source": []
  }
 ],
 "metadata": {
  "kernelspec": {
   "display_name": "Python 3 (ipykernel)",
   "language": "python",
   "name": "python3"
  },
  "language_info": {
   "codemirror_mode": {
    "name": "ipython",
    "version": 3
   },
   "file_extension": ".py",
   "mimetype": "text/x-python",
   "name": "python",
   "nbconvert_exporter": "python",
   "pygments_lexer": "ipython3",
   "version": "3.12.4"
  }
 },
 "nbformat": 4,
 "nbformat_minor": 5
}
